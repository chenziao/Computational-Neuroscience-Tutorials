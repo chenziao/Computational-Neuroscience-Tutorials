{
 "cells": [
  {
   "cell_type": "markdown",
   "metadata": {},
   "source": [
    "![alt_text](http://www.gtec.at/var/plain_site/storage/images/media/images/g.nautilus-g.kids-400x240/351775-1-eng-GB/g.Nautilus-g.Kids-400x240.jpg 'Child having an EEG test done')\n",
    "\n",
    "# Welcome to the EEG Tutorial!\n",
    "#### By the end of this tutorial, you will be able to...\n",
    "\n",
    "_1. Understand what an EEG is._\n",
    "\n",
    "_2. Recognize the five different brain waves and when they occur._\n",
    "\n",
    "_3. Examine your own brain data!_\n",
    "\n",
    "---"
   ]
  },
  {
   "cell_type": "code",
   "execution_count": 1,
   "metadata": {},
   "outputs": [
    {
     "data": {
      "text/html": [
       "<script>\n",
       "code_show=true; \n",
       "function code_toggle() {\n",
       " if (code_show){\n",
       " $('div.input').hide();\n",
       " } else {\n",
       " $('div.input').show();\n",
       " }\n",
       " code_show = !code_show\n",
       "} \n",
       "$( document ).ready(code_toggle);\n",
       "</script>\n",
       "<form action=\"javascript:code_toggle()\"><input type=\"submit\" value=\"Click here to Hide/Show the code.\"></form>"
      ],
      "text/plain": [
       "<IPython.core.display.HTML object>"
      ]
     },
     "execution_count": 1,
     "metadata": {},
     "output_type": "execute_result"
    }
   ],
   "source": [
    "from IPython.display import HTML\n",
    "\n",
    "HTML('''<script>\n",
    "code_show=true; \n",
    "function code_toggle() {\n",
    " if (code_show){\n",
    " $('div.input').hide();\n",
    " } else {\n",
    " $('div.input').show();\n",
    " }\n",
    " code_show = !code_show\n",
    "} \n",
    "$( document ).ready(code_toggle);\n",
    "</script>\n",
    "<form action=\"javascript:code_toggle()\"><input type=\"submit\" value=\"Click here to Hide/Show the code.\"></form>''')"
   ]
  },
  {
   "cell_type": "code",
   "execution_count": null,
   "metadata": {},
   "outputs": [],
   "source": [
    "from IPython.display import Javascript\n",
    "Javascript('IPython.notebook.execute_cell_range(IPython.notebook.get_selected_index()+1, IPython.notebook.get_selected_index()+7)')"
   ]
  },
  {
   "cell_type": "markdown",
   "metadata": {},
   "source": [
    "## So, what is an EEG and why should we be learning about it?\n",
    "\n",
    "EEG stands for __electroencephalogram__, which is a test that records the electrical signals produced by the brain. Our brain cells communicate using electrical signals, and we can measure some of these signals using special electrodes (like the ones the children are wearing in the image above). A signal may be classified by its __frequency__ (number of peaks measured per second) and __amplitude__ (the strength of each peak).\n",
    "\n",
    "![alt_text](https://i1.wp.com/www.mindovermenieres.com/wp-content/uploads/2015/12/brainwave-chart-01.png?w=600 \"Types of EEG Waves\")\n",
    "\n",
    "---"
   ]
  },
  {
   "cell_type": "markdown",
   "metadata": {},
   "source": [
    "## That's cool, but what do these waves mean? \n",
    "\n",
    "Each of the five waves listed above represent a different brain __state__. For example, the __delta__ waves are observed when a person is in __deep sleep__. The short video below will explain each wave and the brain state associated with it:"
   ]
  },
  {
   "cell_type": "code",
   "execution_count": null,
   "metadata": {},
   "outputs": [],
   "source": [
    "from IPython.display import YouTubeVideo\n",
    "# a short video about brain waves\n",
    "# Video credit: Brainfacts.org.\n",
    "YouTubeVideo('8CejGESrRkc')"
   ]
  },
  {
   "cell_type": "markdown",
   "metadata": {},
   "source": [
    "---\n",
    "\n",
    "## Why are EEG tests important? What's the point?\n",
    "\n",
    "An EEG test is capable of detecting brain disorders such as __seizures__, __dizziness__, __epilepsy__, and even __brain tumors__. Many disorders are detected by noting an abnormal spike/pattern in the brain waves as they're being measured. The following image shows normal brain wave activity followed by brain wave activity during a seizure:\n",
    "\n",
    "![alt_text](http://rrapid.leeds.ac.uk/ebook/assets/images/illustrations/EEG.png 'Seizure EEG')"
   ]
  },
  {
   "cell_type": "markdown",
   "metadata": {},
   "source": [
    "---\n",
    "\n",
    "## Awesome, when can I look at my brain waves?\n",
    "\n",
    "Right now! We probably won't see any __delta__ or __theta__ waves (unless you were very committed and _fell asleep_ while taking measurements), but if you closed your eyes and relaxed at any point, you may catch an __alpha__ wave somewhere in your data! Or, if you were _really_ deep in thought or focused on a problem, you could even find a __gamma__ wave!  \n",
    "\n",
    "Below you will see a prompt that will ask you to enter the name of your EEG file. Be sure to enter the file name _without_ the '.txt' and press [ENTER].  \n",
    "\n",
    "After you enter your file name, four plots (one for each of the electrodes you placed on your head) will appear below. Each plot has __four__ sliders:  \n",
    "&emsp;&emsp;(1) x position; (2) width; (3) y position; (4) height of your view window\n",
    "    \n",
    "Each plot will automatically update as you move any of the sliders.  \n",
    "\n",
    "If you're feeling extra adventurous, click the button at the top of this notebook that says 'Click here to toggle the code.' to show all the code used to create this notebook. You can modify this code if you wish to add any features to the plots, change the colors, etc.  \n",
    "\n",
    "If you wish to __start over__ with a new EEG file, simply click the 'Reset' button.  \n",
    "\n",
    "#### Good luck and enjoy the _waves_!\n",
    "\n",
    "---"
   ]
  },
  {
   "cell_type": "code",
   "execution_count": null,
   "metadata": {},
   "outputs": [],
   "source": [
    "from IPython.display import Javascript, display\n",
    "from ipywidgets import widgets\n",
    "\n",
    "def reset_filename(*arg):\n",
    "    display(Javascript('IPython.notebook.execute_cells([IPython.notebook.get_selected_index()+1])'))\n",
    "\n",
    "reset = widgets.Button(description='Reset file name',button_style='primary')\n",
    "reset.on_click(reset_filename)\n",
    "display(reset)"
   ]
  },
  {
   "cell_type": "code",
   "execution_count": null,
   "metadata": {},
   "outputs": [],
   "source": [
    "# Let's begin by entering the filename of our recording\n",
    "import os\n",
    "import warnings\n",
    "warnings.filterwarnings('ignore')\n",
    "\n",
    "file_name = input(\"Please enter the name of your EEG data file without the '.txt' (e.g. EEG_data) and press [ENTER]: \")\n",
    "print('The file name you entered is: %s' %file_name)\n",
    "file_name += '.txt'\n",
    "if os.path.exists(file_name):\n",
    "    display(Javascript('IPython.notebook.execute_cells([IPython.notebook.get_selected_index()+1])'))\n",
    "else:\n",
    "    print(file_name + ' does not exist.')"
   ]
  },
  {
   "cell_type": "code",
   "execution_count": null,
   "metadata": {
    "scrolled": true
   },
   "outputs": [],
   "source": [
    "def restart(*arg):\n",
    "    if os.path.exists(file_name):\n",
    "        display(Javascript('IPython.notebook.execute_cell_range(IPython.notebook.get_selected_index()+1, IPython.notebook.get_selected_index()+4)'))\n",
    "    else:\n",
    "        print(file_name + ' does not exist.')\n",
    "\n",
    "restart_button = widgets.Button(description='Restart',button_style='primary')\n",
    "restart_button.on_click(restart)\n",
    "display(restart_button)\n",
    "\n",
    "Javascript('IPython.notebook.execute_cell_range(IPython.notebook.get_selected_index()+1, IPython.notebook.get_selected_index()+4)')"
   ]
  },
  {
   "cell_type": "code",
   "execution_count": null,
   "metadata": {
    "scrolled": true
   },
   "outputs": [],
   "source": [
    "import pandas as pd\n",
    "import numpy as np\n",
    "\n",
    "# ...And reading in our data:\n",
    "# We want to read in number of channels and sampling rate from the first few rows, then drop them\n",
    "# and we want to give our data some column labels:\n",
    "headers = ['Index','EEG_1','EEG_2','EEG_3','EEG_4','ACC_1','ACC_2','ACC_3','Timestamp_1','Timestamp_2']\n",
    "eeg_data = pd.read_csv(file_name,names=headers)\n",
    "NChannels = [int(s) for s in eeg_data.iloc[1,0].split() if s.isdigit()][0] # number of channels\n",
    "Fs = [float(s) for s in eeg_data.iloc[2,0].split() if s.replace('.','',1).isdigit()][0] # sampling rate\n",
    "eeg_data.dropna(inplace=True) # drop first few lines possible NaN values\n",
    "eeg_data.reset_index(inplace=True,drop=True)\n",
    "eeg_col = ['EEG_'+str(i) for i in range(1,NChannels+1)] # column names\n",
    "\n",
    "print('File loaded successfully.')\n",
    "# Uncomment the line below to print a prevhiew of the data\n",
    "# print(eeg_data)\n",
    "\n",
    "eeg = eeg_data[eeg_col]\n",
    "N = eeg.shape[0] # Total number of time samples\n",
    "T = eeg.index.values/Fs # Time samples (second)\n",
    "channel_site = ['Left Frontal Lobe','Right Frontal Lobe','Left Occipital Lobe','Right Occipital Lobe']\n",
    "channel = ['1','2','3','4']"
   ]
  },
  {
   "cell_type": "markdown",
   "metadata": {},
   "source": [
    "---\n",
    "\n",
    "## Raw EEG signal of muti-channel recordings\n",
    "Select channels and view the raw EEG. Use the sliders to control axes. To update faster, disable 'continuous update'."
   ]
  },
  {
   "cell_type": "code",
   "execution_count": null,
   "metadata": {},
   "outputs": [],
   "source": [
    "import ipywidgets as widgets\n",
    "from ipywidgets import interactive_output,HBox,VBox,Label,Layout\n",
    "from IPython.display import display\n",
    "import matplotlib.pyplot as plt\n",
    "%matplotlib inline\n",
    "\n",
    "tpseg = 4 # length of segment (second) for spectral analysis\n",
    "npseg = 2**np.ceil(np.log2(tpseg*Fs)) # samples per segment\n",
    "minseg = npseg/Fs # minimun length of segment required\n",
    "\n",
    "[xmin,xmax,ymin,ymax] = [T[0],T[-1],eeg.min().min(),eeg.max().max()]\n",
    "[W,H] = [xmax-xmin,ymax-ymin]\n",
    "def plot_eeg(channel,px,py,pw,ph):\n",
    "    nchannel = len(channel)\n",
    "    if nchannel == 0:\n",
    "        print('Channels not selected.')\n",
    "        return()\n",
    "    \n",
    "    xx = np.array([px-1/pw/2,px+1/pw/2])\n",
    "    yy = np.array([py-1/ph/2,py+1/ph/2])\n",
    "    [x1,x2] = [max(np.floor(xx[0]*N).astype(int),0) , min(np.ceil(xx[1]*N).astype(int),N)]\n",
    "    \n",
    "    plt.figure(figsize=(12,5*nchannel))\n",
    "    for i in range(nchannel):\n",
    "        plt.subplot(nchannel,1,i+1)\n",
    "        plt.plot(T[x1:x2],eeg['EEG_'+channel[i]][x1:x2],'b')\n",
    "#         plt.plot(T,eeg['EEG_'+channel[i]],'b')\n",
    "        plt.xlim(xmin+W*xx)\n",
    "        plt.ylim(ymin+H*yy)\n",
    "        plt.grid()\n",
    "        if i==nchannel-1: plt.xlabel('Time (sec)')\n",
    "        plt.ylabel('Voltage $(\\mu V)$')\n",
    "        plt.title(channel_site[int(channel[i])-1]+' (EEG_'+channel[i]+')')\n",
    "    plt.show()\n",
    "\n",
    "w_chan = widgets.SelectMultiple(options=list(zip(channel_site,channel)),rows=NChannels,value=channel)\n",
    "w_px = widgets.FloatSlider(value=0.5,min=0,max=1,step=0.01,readout=False,orientation='horizontal')\n",
    "w_py = widgets.FloatSlider(value=0.5,min=0,max=1,step=0.01,description='Y positon',readout=False,orientation='vertical')\n",
    "w_pw = widgets.FloatLogSlider(value=1,base=10,min=0,max=np.log10(T[-1]/minseg),step=0.02,readout=False,orientation='horizontal')\n",
    "w_ph = widgets.FloatLogSlider(value=1,base=10,min=0,max=2,step=0.02,description='Zoom in/out',readout=False,orientation='vertical')\n",
    "w_update = widgets.ToggleButton(value=True,description='Continuous update',button_style='info',icon='times')\n",
    "\n",
    "def cont_update(*args):\n",
    "    if w_update.value:\n",
    "        w_update.icon = 'times'\n",
    "        w_px.continuous_update = True; w_py.continuous_update = True\n",
    "        w_pw.continuous_update = True; w_ph.continuous_update = True\n",
    "    else:\n",
    "        w_update.icon = 'repeat'\n",
    "        w_px.continuous_update = False; w_py.continuous_update = False\n",
    "        w_pw.continuous_update = False; w_ph.continuous_update = False\n",
    "w_update.observe(cont_update,'value')\n",
    "\n",
    "between = Layout(justify_content='space-between')\n",
    "ui = HBox([ VBox([ VBox([Label('Select Channels (select multiple by holding ctrl/shift + click)'),w_chan]),\n",
    "            HBox([w_update,VBox([Label('X positon'),Label('Zoom in/out')]),VBox([w_px,w_pw])]) ],layout=between), w_py,w_ph ])\n",
    "out = interactive_output(plot_eeg,{'channel':w_chan,'px':w_px,'py':w_py,'pw':w_pw,'ph':w_ph})\n",
    "display(ui,out)\n",
    "\n",
    "def Continue(*arg):\n",
    "    display(Javascript('IPython.notebook.execute_cells_below()'))\n",
    "\n",
    "continue_button = widgets.Button(description=\"Continue\",button_style='primary')\n",
    "continue_button.on_click(Continue)\n",
    "display(continue_button)"
   ]
  },
  {
   "cell_type": "code",
   "execution_count": null,
   "metadata": {
    "scrolled": false
   },
   "outputs": [],
   "source": [
    "print('If you want to cut out a segment from the EEG recording, please enter your desired interval in second (e.g. \"5 12.5\") and press [ENTER].\\nOtherwise, press enter to skip: ')\n",
    "while True:\n",
    "    interval = input()\n",
    "    interval = [float(s) for s in interval.replace(',',' ').split() if s.replace('.','',1).isdigit()]\n",
    "    if len(interval)<2:\n",
    "        print('No interval specified. Entire recording will be used.');\n",
    "        interval = T[[0,-1]]\n",
    "    else:\n",
    "        interval = np.array([max(interval[0],0),min(interval[1],T[-1])])\n",
    "    if interval[1]-interval[0]<=minseg:\n",
    "        print('Selected segment %.2f-%.2f second is too short for further analysis.Please choose a segment longer than %.2f seconds.'\n",
    "              %(interval[0],interval[1],minseg))\n",
    "    else:\n",
    "        print('%.2f-%.2f second will be cut out for further analysis.' % tuple(interval)); break\n",
    "\n",
    "idx = np.nonzero(np.logical_and(T>=interval[0], T<=interval[1]))\n",
    "eeg = eeg.iloc[idx]\n",
    "N = eeg.shape[0]\n",
    "T = T[idx]\n",
    "xmin = T[0]\n",
    "W = T[-1]-xmin"
   ]
  },
  {
   "cell_type": "markdown",
   "metadata": {},
   "source": [
    "---\n",
    "\n",
    "## Power spectral density of EEG recordings\n",
    "Calculate the power spectral density of EEG over the whole recording using Welch's method. Divide the power spectrum into 6 bands of different rhythms."
   ]
  },
  {
   "cell_type": "code",
   "execution_count": null,
   "metadata": {
    "scrolled": false
   },
   "outputs": [],
   "source": [
    "from scipy import signal\n",
    "\n",
    "waves = ['Delta','Theta','Alpha','Beta','Gamma','High Gamma']\n",
    "freq_band = np.array([[1.,4.],[4.,8.],[8.,12.],[12.,30.],[30.,70.],[70.,100.]])\n",
    "nband = len(waves)\n",
    "fshow = 100 # Maximun frequency to display (Hz)\n",
    "eeg_np = eeg.values # convert to numpy array\n",
    "eeg_np -= eeg_np.mean(axis=0) # remove DC component\n",
    "jet = plt.get_cmap('jet') # colormap\n",
    "clr = jet(np.linspace(0,1,nband)) # colors\n",
    "\n",
    "Ff, Pxx = signal.welch(eeg_np,Fs,nperseg=npseg,axis=0) # welch's power spectral density estimation\n",
    "Pxx[[0,-1],:]*=2\n",
    "plt.figure(figsize=(8,6))\n",
    "plt.semilogy(Ff,Pxx)\n",
    "plt.xlim(0,fshow)\n",
    "yl = plt.gca().get_ylim()\n",
    "for i in range(nband):\n",
    "    ytxt = yl[0]*(yl[1]/yl[0])**(np.array([0.9,0.88])-0.05*i)\n",
    "    plt.semilogy(freq_band[i,0]*np.ones(2),yl,color=clr[i])\n",
    "    plt.semilogy(freq_band[i,1]*np.ones(2),yl,color=clr[i])\n",
    "    plt.semilogy(freq_band[i,:],ytxt[1]*np.ones(2),color=clr[i])\n",
    "    plt.text(freq_band[i,0],ytxt[0],waves[i],color=clr[i])\n",
    "    print(waves[i]+': %.0f-%.0fHz ' %(freq_band[i][0],freq_band[i][1]),end = '   ')\n",
    "plt.ylim(yl)\n",
    "plt.legend(eeg_col,loc=1)\n",
    "plt.title('Power spectral density')\n",
    "plt.xlabel('Frequency (Hz)')\n",
    "plt.ylabel('PSD $(\\mu V^2/Hz)$')\n",
    "plt.show()"
   ]
  },
  {
   "cell_type": "markdown",
   "metadata": {},
   "source": [
    "## Band-pass filter the EEG to get waves\n",
    "Design Butterworth filter for each rhythm and apply Hilbert transform."
   ]
  },
  {
   "cell_type": "code",
   "execution_count": null,
   "metadata": {},
   "outputs": [],
   "source": [
    "eeg_filt = eeg_HBamp = np.empty( shape=(N,NChannels,nband) )\n",
    "eeg_power = np.empty( shape=(N,NChannels,nband) )\n",
    "for i in range(nband):\n",
    "    if freq_band[i,1]>=Fs/2:\n",
    "        bFilt,aFilt = signal.butter(2,freq_band[i,0]*2/Fs,btype='highpass') # High-pass filter if cutoff frequency exceed Nyquist frequency\n",
    "    else:\n",
    "        bFilt,aFilt = signal.butter(2,freq_band[i]*2/Fs,btype='bandpass') # Design filters\n",
    "    eeg_filt[:,:,i] = signal.filtfilt(bFilt,aFilt,eeg_np,axis=0) # Filtered EEG\n",
    "    for j in range(NChannels):\n",
    "#         eeg_power[:,j,i] = np.sqrt(signal.convolve(eeg_filt[:,j,i]**2,np.ones(int(npseg)),mode='same')/npseg)\n",
    "        eeg_power[:,j,i] = np.sqrt(signal.convolve(eeg_filt[:,j,i]**2,np.ones(int(npseg)),mode='full')/npseg)[:N] # Accumulated Power\n",
    "eeg_HBamp = np.absolute(signal.hilbert(eeg_filt,axis=0)) # Hilbert tranform\n",
    "\n",
    "def pow2db(x):\n",
    "    return 10*np.log10(x)\n",
    "FF,t,Sxx = signal.spectrogram(eeg_np[:,0],Fs,nperseg=int(npseg/4),noverlap=int(npseg/16)) # Spectrogram\n",
    "fidx = np.nonzero(FF<=fshow)\n",
    "F = FF[fidx]\n",
    "SxxdB = pow2db(Sxx[fidx])"
   ]
  },
  {
   "cell_type": "markdown",
   "metadata": {},
   "source": [
    "Select a channel and a rhythm to display its raw EEG, filtered EEG, accumulated power, power spectral density and spectrogram."
   ]
  },
  {
   "cell_type": "code",
   "execution_count": null,
   "metadata": {},
   "outputs": [],
   "source": [
    "Ymin = [eeg_np.min(axis=0),-eeg_HBamp.max(axis=0)]\n",
    "HH = [eeg_np.max(axis=0)-Ymin[0],-2*Ymin[1],eeg_power.max(axis=0)]\n",
    "def plot_waves(channel,band,px,py,pw,ph):\n",
    "    xx = np.array([px-1/pw/2,px+1/pw/2])\n",
    "    yy = np.array([py-1/ph/2,py+1/ph/2])\n",
    "    [x1,x2] = [max(np.floor(xx[0]*N).astype(int),0) , min(np.ceil(xx[1]*N).astype(int),N)]\n",
    "    \n",
    "    plt.figure(figsize=(12,20))\n",
    "    # Raw signal\n",
    "    plt.subplot(4,1,1)\n",
    "    plt.title(waves[band]+' wave of '+channel_site[channel]+' (EEG_'+str(channel+1)+')')\n",
    "    plt.plot(T[x1:x2],eeg_np[x1:x2,channel],'k')\n",
    "    plt.xlim(xmin+W*xx)\n",
    "    plt.ylim(Ymin[0][channel]+HH[0][channel]*yy)\n",
    "    plt.grid()\n",
    "    plt.xlabel('Time (sec)')\n",
    "    plt.ylabel('Voltage $(\\mu V)$')\n",
    "    plt.legend(['Raw EEG'],loc=1)\n",
    "    \n",
    "    # Filtered signal\n",
    "    plt.subplot(4,1,2)\n",
    "    plt.plot(T[x1:x2],eeg_filt[x1:x2,channel,band],'b')\n",
    "    plt.plot(T[x1:x2],eeg_HBamp[x1:x2,channel,band],'m')\n",
    "    plt.xlim(xmin+W*xx)\n",
    "    plt.ylim(Ymin[1][channel,band]+HH[1][channel,band]*yy)\n",
    "    plt.grid()\n",
    "    plt.xlabel('Time (sec)')\n",
    "    plt.ylabel('Voltage $(\\mu V)$')\n",
    "    plt.legend(['Band-pass filtered EEG','Hilbert transform amplitude'],loc=1)\n",
    "    # Accumulated average power in band\n",
    "    plt.subplot(4,1,3)\n",
    "    plt.plot(T[x1:x2],eeg_power[x1:x2,channel,band],color=clr[band])\n",
    "    plt.xlim(xmin+W*xx)\n",
    "    plt.ylim(0,HH[2][channel,band])\n",
    "    plt.grid()\n",
    "    plt.xlabel('Time (sec)')\n",
    "    plt.ylabel('Voltage $(\\mu V)$')\n",
    "    plt.legend([waves[band]+' power'],loc=1)\n",
    "    # Power spectral density\n",
    "    f,pxx = signal.welch(eeg_np[x1:x2,channel],Fs,nperseg=npseg,axis=0) # PSD with the display window\n",
    "    plt.subplot(4,1,4)\n",
    "    plt.plot(Ff,pow2db(Pxx[:,channel]),'g')\n",
    "    plt.plot(f,pow2db(pxx),color=clr[band])\n",
    "    plt.xlim(0,fshow)\n",
    "    yl = plt.gca().get_ylim()\n",
    "    plt.plot(freq_band[band,0]*np.ones(2),yl,color=clr[band,:3]*.7)\n",
    "    plt.plot(freq_band[band,1]*np.ones(2),yl,color=clr[band,:3]*.7)\n",
    "    plt.text(freq_band[band,0],yl[0]+(yl[1]-yl[0])*(0.9-0.05*band),waves[band],color=clr[band,:3]*.3)\n",
    "    plt.ylim(yl)\n",
    "    plt.xlabel('Frequency (Hz)')\n",
    "    plt.ylabel('PSD (dB/Hz)')\n",
    "    plt.legend(['total PSD','PSD of displayed duration'],loc=1)\n",
    "    plt.show()\n",
    "    # Spectrogram\n",
    "    plt.figure(figsize=(14,5))\n",
    "    plt.pcolormesh(xmin+t,F,SxxdB,cmap='winter')\n",
    "    plt.colorbar().set_label('Power/Frequency (dB/Hz)')\n",
    "    plt.yscale('log')\n",
    "    plt.plot(xmin+W*xx,freq_band[band,0]*np.ones(2),color=clr[band])\n",
    "    plt.plot(xmin+W*xx,freq_band[band,1]*np.ones(2),color=clr[band])\n",
    "    plt.text(xmin+W*xx[0],freq_band[band,0]*1.05,waves[band],color=clr[band,:3]*.7)\n",
    "    plt.xlim(xmin+W*xx)\n",
    "    plt.ylim(F[1],fshow)\n",
    "    plt.ylabel('Frequency (Hz)]')\n",
    "    plt.xlabel('Time (sec)')\n",
    "    plt.title('Spectrogram')\n",
    "    plt.show()"
   ]
  },
  {
   "cell_type": "code",
   "execution_count": null,
   "metadata": {
    "scrolled": false
   },
   "outputs": [],
   "source": [
    "w_chan2 = widgets.Select(options=list(zip(channel_site,np.arange(NChannels))),value=0,rows=NChannels)\n",
    "w_band2 = widgets.Select(options=list(zip(waves,np.arange(nband))),value=0,rows=nband)\n",
    "w_px2 = widgets.FloatSlider(value=0.5,min=0,max=1,step=0.01,orientation='horizontal',readout=False,continuous_update=False)\n",
    "w_py2 = widgets.FloatSlider(value=0.5,min=0,max=1,step=0.01,description='Y positon',orientation='vertical',readout=False,continuous_update=False)\n",
    "w_pw2 = widgets.FloatLogSlider(value=1,base=10,min=0,max=np.log10(N*4/npseg),step=0.02,orientation='horizontal',readout=False,continuous_update=False)\n",
    "w_ph2 = widgets.FloatLogSlider(value=1,base=10,min=0,max=2,step=0.02,description='Zoom in/out',orientation='vertical',readout=False,continuous_update=False)\n",
    "w_update2 = widgets.ToggleButton(value=False,description='Continuous update',button_style='info',icon='repeat')\n",
    "\n",
    "def cont_update2(*args):\n",
    "    if w_update2.value:\n",
    "        w_update2.icon = 'times'\n",
    "        w_px2.continuous_update = True; w_py.continuous_update = True\n",
    "        w_pw2.continuous_update = True; w_ph.continuous_update = True\n",
    "    else:\n",
    "        w_update2.icon = 'repeat'\n",
    "        w_px2.continuous_update = False; w_py.continuous_update = False\n",
    "        w_pw2.continuous_update = False; w_ph.continuous_update = False\n",
    "w_update2.observe(cont_update2,'value')\n",
    "\n",
    "ui = HBox([ VBox([ HBox([ VBox([Label('Select Channel'),w_chan2]),VBox([Label('Select Rhythm'),w_band2]) ]), HBox([w_update2,\n",
    "            HBox([ VBox([Label('X positon'),Label('Zoom in/out')]),VBox([w_px2,w_pw2]) ]) ],layout=between) ],layout=between),\n",
    "           w_py2,w_ph2 ])\n",
    "out = interactive_output(plot_waves,{'channel':w_chan2,'band':w_band2,'px':w_px2,'py':w_py2,'pw':w_pw2,'ph':w_ph2})\n",
    "display(ui,out)"
   ]
  },
  {
   "cell_type": "code",
   "execution_count": null,
   "metadata": {},
   "outputs": [],
   "source": []
  }
 ],
 "metadata": {
  "kernelspec": {
   "display_name": "Python 3",
   "language": "python",
   "name": "python3"
  },
  "language_info": {
   "codemirror_mode": {
    "name": "ipython",
    "version": 3
   },
   "file_extension": ".py",
   "mimetype": "text/x-python",
   "name": "python",
   "nbconvert_exporter": "python",
   "pygments_lexer": "ipython3",
   "version": "3.7.1"
  }
 },
 "nbformat": 4,
 "nbformat_minor": 2
}
