{
 "cells": [
  {
   "cell_type": "markdown",
   "metadata": {},
   "source": [
    "# Get started with Math\n",
    "\n",
    "### Numerical differentiation\n",
    "\n",
    "#### Create an array of x and define the parabola function"
   ]
  },
  {
   "cell_type": "code",
   "execution_count": null,
   "metadata": {},
   "outputs": [],
   "source": [
    "import numpy as np\n",
    "import matplotlib.pyplot as plt\n",
    "%matplotlib inline\n",
    "\n",
    "dx = 0.5 # step length. Set a smaller value to get more points in the range and higher resolution.\n",
    "x = np.arange(-5,5,dx) # create an array of x from -5 to 5 with step 0.5\n",
    "\n",
    "# define a function for parabola in vertex form\n",
    "def parabola(x,xv,yv,a):\n",
    "    y = a*(x-xv)**2+yv\n",
    "    return y\n",
    "\n",
    "xv = 0\n",
    "yv = -2\n",
    "a = 0.5\n",
    "\n",
    "y = parabola(x,xv,yv,a)\n",
    "\n",
    "plt.figure(figsize=(6,4))\n",
    "plt.plot(x,y)\n",
    "plt.xlabel('x')\n",
    "plt.ylabel('y')\n",
    "plt.grid()\n",
    "plt.show()"
   ]
  },
  {
   "cell_type": "markdown",
   "metadata": {},
   "source": [
    "#### Define a function for calculating analytical derivative of parabola"
   ]
  },
  {
   "cell_type": "code",
   "execution_count": null,
   "metadata": {},
   "outputs": [],
   "source": [
    "# Calculate the analytical derivative of parabola in vertex form\n",
    "def d_parabola(x,xv,a):\n",
    "    dy_dx = 2*a*(x-xv)\n",
    "    return(dy_dx)\n",
    "\n",
    "dy_dx_acc = d_parabola(x,xv,a) # accurate derivative\n",
    "print(dy_dx_acc)"
   ]
  },
  {
   "cell_type": "markdown",
   "metadata": {},
   "source": [
    "#### Numerically estimate the derivative"
   ]
  },
  {
   "cell_type": "code",
   "execution_count": null,
   "metadata": {
    "scrolled": false
   },
   "outputs": [],
   "source": [
    "dx = 0.5 # set a small increment\n",
    "x1 = x+dx # an array with increment\n",
    "print(x1)\n",
    "\n",
    "y1 = parabola(x1,xv,yv,a) # calculate y(x+dx)\n",
    "dy_dx_est = (y1-y)/dx # estimated derivative [y(x+dx)-y(x)]/dx\n",
    "print(dy_dx_est)\n",
    "\n",
    "error = abs(dy_dx_est-dy_dx_acc) # absolute error\n",
    "print(error)\n",
    "error_mean = np.mean(error) # mean absolute error\n",
    "print(error_mean)\n",
    "\n",
    "plt.figure(figsize=(6,4))\n",
    "plt.plot(x,dy_dx_acc,'b')\n",
    "plt.plot(x,dy_dx_est,'r.')\n",
    "plt.xlabel('x')\n",
    "plt.ylabel('dy/dx')\n",
    "plt.legend(['actual derivative','estimated derivative'])\n",
    "plt.grid()\n",
    "plt.show()"
   ]
  },
  {
   "cell_type": "markdown",
   "metadata": {},
   "source": [
    "#### Create a generic function for calculating numerical differentiation"
   ]
  },
  {
   "cell_type": "code",
   "execution_count": null,
   "metadata": {
    "scrolled": true
   },
   "outputs": [],
   "source": [
    "# Numerically estimate the derivative of a given function.\n",
    "# x- input array, dx- increment, func- name of the given function, *args- all other input arguments of func except x.\n",
    "# A function name can be an input argument of another function. *args are passed on to func inside the num_diff function.\n",
    "def num_diff(x,dx,func,*args):\n",
    "    dy_dx = (func(x+dx,*args)-func(x,*args))/dx\n",
    "    return dy_dx\n",
    "\n",
    "# In following example, func = parabola, *args = (xv,yx,a).\n",
    "dy_dx_est = num_diff(x,dx,parabola,xv,yv,a) #estimated derivative\n",
    "\n",
    "plt.figure(figsize=(6,4))\n",
    "plt.plot(x,dy_dx_acc,'b')\n",
    "plt.plot(x,dy_dx_est,'r.')\n",
    "plt.xlabel('x')\n",
    "plt.ylabel('dy/dx')\n",
    "plt.legend(['actual derivative','estimated derivative'])\n",
    "plt.grid()\n",
    "plt.show()"
   ]
  },
  {
   "cell_type": "markdown",
   "metadata": {},
   "source": [
    "#### Calculate the numerical differential error vs. increment"
   ]
  },
  {
   "cell_type": "code",
   "execution_count": null,
   "metadata": {},
   "outputs": [],
   "source": [
    "dx = np.arange(0.01,0.5,0.03)\n",
    "err = [] # create an empty list\n",
    "\n",
    "# loop over all elements in dx. One element from dx is assigned to h in each iteration\n",
    "for h in dx:\n",
    "    dy_dx_est = num_diff(x,h,parabola,xv,yv,a) # estimated derivative\n",
    "    err.append( np.mean(abs(dy_dx_est-dy_dx_acc)) ) # mean absolute error calculated in each iteration is appended to the list of err\n",
    "\n",
    "plt.figure(figsize=(6,4))\n",
    "plt.plot(dx,err,'r.')\n",
    "plt.xlabel('dx')\n",
    "plt.ylabel('mean absolute error')\n",
    "plt.grid()\n",
    "plt.show()"
   ]
  },
  {
   "cell_type": "markdown",
   "metadata": {},
   "source": [
    "### Numerical differentiation for sine function"
   ]
  },
  {
   "cell_type": "code",
   "execution_count": null,
   "metadata": {},
   "outputs": [],
   "source": [
    "# define a function for sine. amp - amplitude, omega - angular speed, phi - phase\n",
    "def sine(x,amp,omega,phi):\n",
    "    y = amp*np.sin(omega*x+phi)\n",
    "    return y\n",
    "\n",
    "amp = 2\n",
    "omega = np.pi/4\n",
    "phi = -np.pi/2\n",
    "\n",
    "x = np.arange(-10,10,0.1)\n",
    "y = sine(x,amp,omega,phi)\n",
    "\n",
    "plt.figure(figsize=(6,4))\n",
    "plt.plot(x,y)\n",
    "plt.xlabel('x')\n",
    "plt.ylabel('y')\n",
    "plt.grid()\n",
    "plt.show()"
   ]
  },
  {
   "cell_type": "code",
   "execution_count": null,
   "metadata": {},
   "outputs": [],
   "source": [
    "# Calculate the analytical derivative of sine\n",
    "def d_sine(x,amp,omega,phi):\n",
    "    dy_dx = amp*np.cos(omega*x+phi)*omega\n",
    "    return(dy_dx)\n",
    "\n",
    "dx = 0.5\n",
    "dy_dx_acc = d_sine(x,amp,omega,phi) # accurate derivative\n",
    "dy_dx_est = num_diff(x,dx,sine,amp,omega,phi) #estimated derivative\n",
    "\n",
    "plt.figure(figsize=(6,4))\n",
    "plt.plot(x,dy_dx_acc,'b')\n",
    "plt.plot(x,dy_dx_est,'r.')\n",
    "plt.xlabel('x')\n",
    "plt.ylabel('dy/dx')\n",
    "plt.legend(['actual derivative','estimated derivative'])\n",
    "plt.grid()\n",
    "plt.show()"
   ]
  },
  {
   "cell_type": "code",
   "execution_count": null,
   "metadata": {},
   "outputs": [],
   "source": [
    "# Numerical differential error vs. increment\n",
    "dx = np.arange(0.001,0.02,0.001)\n",
    "err = [] # create an empty list\n",
    "\n",
    "for h in dx:\n",
    "    dy_dx_est = num_diff(x,h,sine,amp,omega,phi) # estimated derivative\n",
    "    err.append( np.mean(abs(dy_dx_est-dy_dx_acc)) )\n",
    "\n",
    "plt.figure(figsize=(6,4))\n",
    "plt.plot(dx,err,'r.')\n",
    "plt.xlabel('dx')\n",
    "plt.ylabel('mean absolute error')\n",
    "plt.grid()\n",
    "plt.show()"
   ]
  },
  {
   "cell_type": "code",
   "execution_count": null,
   "metadata": {},
   "outputs": [],
   "source": []
  }
 ],
 "metadata": {
  "kernelspec": {
   "display_name": "Python 3",
   "language": "python",
   "name": "python3"
  },
  "language_info": {
   "codemirror_mode": {
    "name": "ipython",
    "version": 3
   },
   "file_extension": ".py",
   "mimetype": "text/x-python",
   "name": "python",
   "nbconvert_exporter": "python",
   "pygments_lexer": "ipython3",
   "version": "3.7.1"
  }
 },
 "nbformat": 4,
 "nbformat_minor": 2
}
