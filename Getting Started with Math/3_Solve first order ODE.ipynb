{
 "cells": [
  {
   "cell_type": "markdown",
   "metadata": {},
   "source": [
    "# First order defferential equation\n"
   ]
  },
  {
   "cell_type": "code",
   "execution_count": null,
   "metadata": {},
   "outputs": [],
   "source": [
    "from IPython.display import YouTubeVideo\n",
    "YouTubeVideo('p_di4Zn4wz4',width=640,height=360)"
   ]
  },
  {
   "cell_type": "markdown",
   "metadata": {},
   "source": [
    "## <center>Analytical solution of a first order defferential equation</center>\n",
    "<img src=\"analytical_solution.png\" style=\"text-align:center\">\n",
    "## <center>Numerical solution of a first order defferential equation</center>\n",
    "<img src=\"numerical_solution.png\" style=\"text-align:center\">"
   ]
  },
  {
   "cell_type": "markdown",
   "metadata": {},
   "source": [
    "### Set up the first order differential equation and convert it into standard form assuming input u(t) is a constant.\n",
    "\n",
    "a1,a2 and a3 are coefficients of the first order differential equation:  $ a_{1}\\dot{y}\\left(t\\right) + a_{2}y(\\left(t\\right) = a_{3}u\\left(t\\right); \\ \\ y\\left(0\\right)=y_{0}, \\quad where\\: u\\left(t\\right) = 1 $.  \n",
    "Convert into standard form:  $ \\tau \\dot{y}\\left(t\\right) + y\\left(t\\right) = Ku\\left(t\\right); \\ \\ y\\left(0\\right)=y_{0} $"
   ]
  },
  {
   "cell_type": "code",
   "execution_count": 1,
   "metadata": {},
   "outputs": [],
   "source": [
    "import numpy as np\n",
    "import matplotlib.pyplot as plt\n",
    "%matplotlib inline\n",
    "\n",
    "# coefficients of the first order differential equation: a1*y'(t) + a2*y(t) = a3*u(t),  where u(t) = 1\n",
    "a1,a2,a3 = 1,3,-30 # example of y'+3y=-30\n",
    "y0 = -60 # y(tstart) initial y at t=tstart\n",
    "\n",
    "# convert into standard form: tau*y'(t) + y(t) = K*u(t)\n",
    "tau = a1/a2\n",
    "K = a3/a2\n",
    "\n",
    "# computational parameters\n",
    "dt = 0.01  # time step size\n",
    "tstart = 0 # initial time\n",
    "tstop = 2  # stop time\n",
    "\n",
    "# initialize\n",
    "t = np.arange(tstart,tstop,dt)\n",
    "y = np.empty(t.shape)\n",
    "y[0] = Y = y0\n",
    "\n",
    "# iteratively solve\n",
    "for i in range(1,t.size):\n",
    "    Y += (K-Y)/tau*dt\n",
    "    y[i] = Y"
   ]
  },
  {
   "cell_type": "markdown",
   "metadata": {},
   "source": [
    "### Plot analytical solution and numerical solution."
   ]
  },
  {
   "cell_type": "code",
   "execution_count": null,
   "metadata": {},
   "outputs": [],
   "source": [
    "y_analy = K-(K-y0)*np.exp(-(t-tstart)/tau) # analytical solution\n",
    "\n",
    "y_tau = y0+(K-y0)*(1-np.exp(-1))  # y(tstart+tau) system reaches the 63.2% of the change in value from initial value in one time constant.\n",
    "\n",
    "plt.figure(figsize=(8,6))\n",
    "plt.plot(t,y_analy,'r')\n",
    "plt.plot(t,y)\n",
    "plt.plot(tstart+tau,y_tau,'go',markerfacecolor='none',markersize=8)\n",
    "plt.xlabel('t')\n",
    "plt.ylabel('y')\n",
    "plt.legend(['analytical solution','numerical solution','( \\u03C4, y(\\u03C4) )'])\n",
    "plt.show()"
   ]
  },
  {
   "cell_type": "markdown",
   "metadata": {},
   "source": [
    "### Interactive tool for getting the solution"
   ]
  },
  {
   "cell_type": "code",
   "execution_count": null,
   "metadata": {},
   "outputs": [],
   "source": [
    "import numpy as np\n",
    "import matplotlib.pyplot as plt\n",
    "%matplotlib inline\n",
    "\n",
    "import ipywidgets as widgets\n",
    "from ipywidgets import HBox,VBox,Label,Layout\n",
    "from IPython.display import display\n",
    "\n",
    "def activemodel(a1,a2,a3,y0,tau,K,tstart,tstop,dt):\n",
    "    t = np.arange(tstart,tstop,dt)\n",
    "    y = np.empty(t.shape)\n",
    "    y[0] = Y = y0\n",
    "\n",
    "    for i in range(1,t.size):\n",
    "        Y += (K-Y)/tau*dt\n",
    "        y[i] = Y\n",
    "    \n",
    "    y_analy = K-(K-y0)*np.exp(-(t-tstart)/tau) # analytical solution\n",
    "    \n",
    "    y_tau = y0+(K-y0)*(1-np.exp(-1))  # y(tau) system reaches the 63.2% of the change in value from initial value in one time constant.\n",
    "    \n",
    "    plt.figure(figsize=(8,6))\n",
    "    plt.plot(t,y_analy,'r')\n",
    "    plt.plot(t,y)\n",
    "    plt.plot(tstart+tau,y_tau,'go',markerfacecolor='none',markersize=8)\n",
    "    plt.grid()\n",
    "    plt.xlabel('t')\n",
    "    plt.ylabel('y')\n",
    "    plt.legend(['analytical solution','numerical solution','( \\u03C4, y(\\u03C4) )'])\n",
    "    plt.show()\n",
    "    \n",
    "    print('Time constant: \\u03C4= %.2f' % tau)"
   ]
  },
  {
   "cell_type": "code",
   "execution_count": null,
   "metadata": {},
   "outputs": [],
   "source": [
    "# default settings\n",
    "a1,a2,a3 = 1,3,-30\n",
    "y0 = -60\n",
    "tau = a1/a2\n",
    "K = a3/a2\n",
    "tstart,tstop,dt = 0.0,2.0,0.01\n",
    "\n",
    "L_s = Layout(width='12%')\n",
    "L_m = Layout(width='20%')\n",
    "L_l = Layout(width='35%')\n",
    "L_ctr = Layout(justify_content='center')\n",
    "L_ard = Layout(justify_content='space-around')\n",
    "L_left = Layout(justify_content='flex-start')\n",
    "\n",
    "w_tstart = widgets.FloatText(value=tstart,description=r'\\(Start\\ time\\)',layout=L_m)\n",
    "w_tstop = widgets.FloatLogSlider(value=tstop,base=10,min=np.log10(tstart+10*dt),max=np.log10(tstart+10*dt)+3,step=0.1,description=r'\\(Stop\\ time\\)',continuous_update=False,readout_format='.1f',layout=L_l)\n",
    "w_dt = widgets.BoundedFloatText(value=dt,min=1e-6,max=1,description=r'\\(Time\\ step\\)',layout=L_m)\n",
    "w_a1 = widgets.FloatText(value=a1,layout=L_l)\n",
    "w_a2 = widgets.FloatText(value=a2,layout=L_l)\n",
    "w_a3 = widgets.FloatText(value=a3,layout=L_l)\n",
    "w_y0 = widgets.FloatText(value=y0,layout=L_m)\n",
    "w_K = widgets.FloatText(value=K,layout=L_m)\n",
    "w_tau = widgets.FloatSlider(value=tau,min=dt,max=tstop,step=dt,continuous_update=False,readout_format='.1f',layout=L_l)\n",
    "\n",
    "def update_tstop(*args):\n",
    "    w_tstop.value = w_tstart.value+tstop\n",
    "    w_tstop.min = np.log10(w_tstart.value+10*dt)\n",
    "    w_tstop.max = np.log10(w_tstart.value+10*dt)+3\n",
    "w_tstart.observe(update_tstop,'value')\n",
    "w_dt.observe(update_tstop,'value')\n",
    "\n",
    "def update_tau(*args):\n",
    "    w_tau.min = w_dt.value\n",
    "    w_tau.max = max(w_tstop.value,w_a1.value/w_a2.value)\n",
    "    w_tau.step = w_dt.value\n",
    "    w_tau.value = w_a1.value/w_a2.value\n",
    "    w_K.value = w_a3.value/w_a2.value\n",
    "w_a1.observe(update_tau,'value')\n",
    "w_a2.observe(update_tau,'value')\n",
    "w_a3.observe(update_tau,'value')\n",
    "w_tstop.observe(update_tau,'value')    \n",
    "w_dt.observe(update_tau,'value')\n",
    "\n",
    "def update_a(*args):\n",
    "    w_a1.value = w_a2.value*w_tau.value\n",
    "    w_a3.value = w_a2.value*w_K.value\n",
    "w_tau.observe(update_a,'value')\n",
    "w_K.observe(update_a,'value')\n",
    "\n",
    "\n",
    "ui = VBox([HBox([w_tstart,w_tstop,w_dt],layout=L_left),\n",
    "           Label(value=r'\\( \\quad Differential\\ equation:\\quad a_{1}\\dot{y}\\left(t\\right) + a_{2}y(\\left(t\\right) = a_{3}; \\ \\ y\\left(0\\right)=y_{0} \\)'),\n",
    "           HBox([HBox([Label(value=r'\\(a_{1}\\)',layout=L_s),w_a1],layout=L_ctr),HBox([Label(value=r'\\(a_{2}\\)',layout=L_s),w_a2],layout=L_ctr),\n",
    "                 HBox([Label(value=r'\\(a_{3}\\)',layout=L_s),w_a3],layout=L_ctr)],layout=L_left),\n",
    "           Label(value=r'\\( \\quad Standard\\ form:\\quad \\tau\\dot{y}\\left(t\\right) + y\\left(t\\right) = K; \\ \\ y\\left(0\\right)=y_{0} \\)'),\n",
    "           HBox([HBox([Label(value=r'\\( Initial\\ value\\ y_{0} \\)',layout=L_m),w_y0,Label(value=r'\\(Final\\ value\\ K\\)',layout=L_m),w_K],layout=L_ctr),\n",
    "                 Label(value=r'\\( Time\\ constant\\ \\tau \\)',layout=L_s),w_tau],layout=L_left) ])\n",
    "\n",
    "out = widgets.interactive_output(activemodel,{'tstart':w_tstart,'tstop':w_tstop,'dt':w_dt,\n",
    "                                              'a1':w_a1,'a2':w_a2,'a3':w_a3,'y0':w_y0,'K':w_K,'tau':w_tau})\n",
    "\n",
    "display(ui,out)"
   ]
  },
  {
   "cell_type": "code",
   "execution_count": null,
   "metadata": {},
   "outputs": [],
   "source": []
  }
 ],
 "metadata": {
  "kernelspec": {
   "display_name": "Python 3",
   "language": "python",
   "name": "python3"
  },
  "language_info": {
   "codemirror_mode": {
    "name": "ipython",
    "version": 3
   },
   "file_extension": ".py",
   "mimetype": "text/x-python",
   "name": "python",
   "nbconvert_exporter": "python",
   "pygments_lexer": "ipython3",
   "version": "3.7.1"
  }
 },
 "nbformat": 4,
 "nbformat_minor": 2
}
