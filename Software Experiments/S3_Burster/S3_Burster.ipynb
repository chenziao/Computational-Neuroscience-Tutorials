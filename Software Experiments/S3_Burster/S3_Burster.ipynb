{
 "cells": [
  {
   "cell_type": "markdown",
   "metadata": {},
   "source": [
    "# S3 What are adapation? Bursting?\n",
    "##### Adapted from a similar GENESIS tutorial (Bower and Beeman, 2007) by Charlie Franklin and Henry Chen, converted to notebook by Ziao Chen and Zhenru Chen"
   ]
  },
  {
   "cell_type": "markdown",
   "metadata": {},
   "source": [
    "### Model Features:\n",
    "  - Two compartments, soma and axon, with different sets of currents, i.e., a more realistic model of the neuron  \n",
    "  - SOMA currents: I<sub>CaS</sub>, I<sub>A</sub>, I<sub>CaT</sub>, I<sub>KCa</sub>, I<sub>Kd</sub>, I<sub>leak</sub>  \n",
    "  - Axon currents: I<sub>Na</sub>, I<sub>Kd</sub>, I<sub>leak</sub>  \n",
    "  - I<sub>CaS</sub> and I<sub>A</sub> counteract each other and their relative ratio decides whether the cell would be an endogenous or forced burster (see exercises below related to this concept).  \n",
    "  - The fact that axon has the action potential currents makes the spikes look small in the soma. Why? The job of the soma then is to generate the depolarization using primarily CaS and A, and a depolarized soma then depolarizes the axon and when this axon compartment's voltage crossed the threshold, you get spikes in the axon. These spikes then ‘back propagate’ to the soma, in addition to traveling down the axon to the next neuron."
   ]
  },
  {
   "cell_type": "markdown",
   "metadata": {},
   "source": [
    "#### Before running the simulation, you need to compile the mod files only once for the first time. In Linux or MacOS, run the cell below to compile. In Windows, you need to run 'mknrndll' instead and select current folder to compile. "
   ]
  },
  {
   "cell_type": "code",
   "execution_count": null,
   "metadata": {},
   "outputs": [],
   "source": [
    "import os\n",
    "print(os.system('nrnivmodl')) # compile modfiles. Return 0 for success, 1 for failure."
   ]
  },
  {
   "cell_type": "markdown",
   "metadata": {},
   "source": [
    "### Run the codes below and answer the 9 questions at the end."
   ]
  },
  {
   "cell_type": "code",
   "execution_count": 1,
   "metadata": {},
   "outputs": [
    {
     "data": {
      "text/html": [
       "<script>\n",
       "code_show=true; \n",
       "function code_toggle() {\n",
       " if (code_show){\n",
       " $('div.input').hide();\n",
       " } else {\n",
       " $('div.input').show();\n",
       " }\n",
       " code_show = !code_show\n",
       "} \n",
       "$( document ).ready(code_toggle);\n",
       "</script>\n",
       "<form action=\"javascript:code_toggle()\"><input type=\"submit\" value=\"Click here to Hide/Show the code.\"></form>"
      ],
      "text/plain": [
       "<IPython.core.display.HTML object>"
      ]
     },
     "execution_count": 1,
     "metadata": {},
     "output_type": "execute_result"
    }
   ],
   "source": [
    "from IPython.display import HTML\n",
    "\n",
    "HTML('''<script>\n",
    "code_show=true; \n",
    "function code_toggle() {\n",
    " if (code_show){\n",
    " $('div.input').hide();\n",
    " } else {\n",
    " $('div.input').show();\n",
    " }\n",
    " code_show = !code_show\n",
    "} \n",
    "$( document ).ready(code_toggle);\n",
    "</script>\n",
    "<form action=\"javascript:code_toggle()\"><input type=\"submit\" value=\"Click here to Hide/Show the code.\"></form>''')"
   ]
  },
  {
   "cell_type": "code",
   "execution_count": 2,
   "metadata": {},
   "outputs": [
    {
     "data": {
      "application/javascript": [
       "IPython.notebook.execute_cells_below()"
      ],
      "text/plain": [
       "<IPython.core.display.Javascript object>"
      ]
     },
     "execution_count": 2,
     "metadata": {},
     "output_type": "execute_result"
    }
   ],
   "source": [
    "from IPython.display import Javascript\n",
    "Javascript('IPython.notebook.execute_cells_below()')"
   ]
  },
  {
   "cell_type": "code",
   "execution_count": 3,
   "metadata": {},
   "outputs": [
    {
     "name": "stdout",
     "output_type": "stream",
     "text": [
      "|-|       soma(0-1)\n",
      "   `|       axon(0-1)\n",
      "\n"
     ]
    },
    {
     "data": {
      "text/plain": [
       "1.0"
      ]
     },
     "execution_count": 3,
     "metadata": {},
     "output_type": "execute_result"
    }
   ],
   "source": [
    "import matplotlib.pyplot as plt\n",
    "from math import pi\n",
    "from neuron import h\n",
    "h.load_file('stdrun.hoc')\n",
    "\n",
    "# Simulation parameters\n",
    "h.dt = 0.025 # time step (resolution) of the simulation in ms\n",
    "h.v_init= -50 # initial membrane potential in mV\n",
    "\n",
    "# Create the soma section and define the parameters\n",
    "soma = h.Section(name='soma')\n",
    "soma.diam = 1000;\n",
    "soma.L = 1e5/pi # micrometers\n",
    "soma.cm = 9e-3 # membrane capacitance uF/cm2\n",
    "soma.Ra = 10000  # ohm-cm\n",
    "\n",
    "soma.insert('leak'); soma.insert('cas'); soma.insert('cat')\n",
    "soma.insert('kA'); soma.insert('kca'); soma.insert('kdr')\n",
    "soma.insert('capool')\n",
    "soma.el_leak=-50; soma.eca = 120; soma.ek = -80 # mV\n",
    "soma.cainf_capool = 500e-6; soma.casi = soma.cainf_capool # mM\n",
    "\n",
    "# Create the axon section and define the parameters\n",
    "axon = h.Section(name='axon')\n",
    "axon.diam = 1000 # micrometers\n",
    "axon.L = 1e5/pi # micrometers\n",
    "axon.cm = 1.5e-3 # uF/cm2\n",
    "axon.Ra = 10000  # ohm-cm\n",
    "\n",
    "axon.insert('leak'); axon.insert('na'); axon.insert('kdr')\n",
    "axon.el_leak = -60; axon.ena = 50; axon.ek = -80 # mV\n",
    "\n",
    "# Connect axon to the soma\n",
    "axon.connect(soma(1),0)\n",
    "h.topology()"
   ]
  },
  {
   "cell_type": "code",
   "execution_count": 4,
   "metadata": {},
   "outputs": [],
   "source": [
    "# Current clamp\n",
    "ccl = h.IClamp(soma(0.5))\n",
    "\n",
    "# Define vectors for recording variables\n",
    "t_vec = h.Vector(); s_v_vec = h.Vector()\n",
    "s_il_vec = h.Vector(); s_ikd_vec = h.Vector()\n",
    "icas_vec = h.Vector(); icat_vec = h.Vector()\n",
    "ia_vec = h.Vector(); ikca_vec = h.Vector()\n",
    "a_v_vec = h.Vector(); a_il_vec = h.Vector()\n",
    "ina_vec = h.Vector(); a_ikd_vec = h.Vector()\n",
    "casi_vec = h.Vector()\n",
    "\n",
    "# Record the variables\n",
    "t_vec.record(h._ref_t); s_v_vec.record(soma(0.5)._ref_v)\n",
    "s_il_vec.record(soma(0.5)._ref_il_leak); s_ikd_vec.record(soma(0.5)._ref_ikd_kdr)\n",
    "icas_vec.record(soma(0.5)._ref_icas_cas); icat_vec.record(soma(0.5)._ref_icat_cat)\n",
    "ia_vec.record(soma(0.5)._ref_ia_kA); ikca_vec.record(soma(0.5)._ref_ikca_kca)\n",
    "a_v_vec.record(axon(0.5)._ref_v); a_il_vec.record(axon(0.5)._ref_il_leak)\n",
    "ina_vec.record(axon(0.5)._ref_ina); a_ikd_vec.record(axon(0.5)._ref_ikd_kdr)\n",
    "casi_vec.record(soma(0.5)._ref_casi)\n",
    "\n",
    "def plot_variables():\n",
    "    plt.figure(figsize=(13,20))\n",
    "    # Soma membrane potential\n",
    "    plt.subplot(5,1,1)\n",
    "    plt.plot(t_vec, s_v_vec,'k')\n",
    "    plt.xlim(0,h.tstop); plt.ylim(-100,50)\n",
    "    plt.ylabel('mV'); plt.legend(['soma Vm'],loc=1)\n",
    "    # Soma channel currents\n",
    "    plt.subplot(5,1,2)\n",
    "    plt.plot(t_vec,s_il_vec,'g'); plt.plot(t_vec,s_ikd_vec,'b')\n",
    "    plt.plot(t_vec,icas_vec,'brown'); plt.plot(t_vec,icat_vec,'orange')\n",
    "    plt.plot(t_vec,ia_vec,'purple'); plt.plot(t_vec,ikca_vec,'y')\n",
    "    plt.xlim(0,h.tstop)\n",
    "    plt.ylabel('mA/cm2'); plt.legend(['il','icas','icat','ia','ikca','ikd'],title='soma',loc=1)\n",
    "    # Axon membrane potential\n",
    "    plt.subplot(5,1,3)\n",
    "    plt.plot(t_vec,a_v_vec ,'k')\n",
    "    plt.xlim(0,h.tstop); plt.ylim(-100,50)\n",
    "    plt.ylabel('mV'); plt.legend(['axon Vm'],loc=1)\n",
    "    # Axon channel currents\n",
    "    plt.subplot(5,1,4)\n",
    "    plt.plot(t_vec,a_il_vec ,'g')\n",
    "    plt.plot(t_vec,ina_vec ,'r')\n",
    "    plt.plot(t_vec,a_ikd_vec ,'b')\n",
    "    plt.xlim(0,h.tstop);\n",
    "    plt.ylabel('mA/cm2'); plt.legend(['il','ina','ikd'],title='axon',loc=1)\n",
    "    # Ca pool concentration\n",
    "    plt.subplot(5,1,5)\n",
    "    plt.plot(t_vec,casi_vec,'c')\n",
    "    plt.xlim(0,h.tstop); plt.xlabel('time (ms)')\n",
    "    plt.ylabel('mM'); plt.legend(['Ca pool'],loc=1)\n",
    "    plt.show()\n",
    "\n",
    "def activemodel(tstop,soma_gl,gcas,gcat,gkA,gkca,soma_gkdr,taucas,axon_gl,axon_gna,axon_gkdr,amp,dur,delay,fig):\n",
    "    soma.glbar_leak = soma_gl\n",
    "    soma.gcasbar_cas = gcas\n",
    "    soma.gcatbar_cat = gcat\n",
    "    soma.gkAbar_kA = gkA\n",
    "    soma.gkcabar_kca = gkca\n",
    "    soma.gkdrbar_kdr = soma_gkdr\n",
    "    soma.taucas_capool = taucas\n",
    "    axon.glbar_leak = axon_gl\n",
    "    axon.gnabar_na = axon_gna\n",
    "    axon.gkdrbar_kdr = axon_gkdr\n",
    "    ccl.amp = amp\n",
    "    ccl.dur = dur\n",
    "    ccl.delay = delay\n",
    "    \n",
    "    h.tstop = tstop\n",
    "    h.run()\n",
    "    plt.close('all')\n",
    "    plot_variables()"
   ]
  },
  {
   "cell_type": "code",
   "execution_count": 5,
   "metadata": {
    "scrolled": false
   },
   "outputs": [
    {
     "data": {
      "application/vnd.jupyter.widget-view+json": {
       "model_id": "0d8e8c9493114421bde69aac5d61ea7c",
       "version_major": 2,
       "version_minor": 0
      },
      "text/plain": [
       "VBox(children=(HBox(children=(Button(button_style='primary', description='Reset', icon='history', style=Button…"
      ]
     },
     "metadata": {},
     "output_type": "display_data"
    },
    {
     "data": {
      "application/vnd.jupyter.widget-view+json": {
       "model_id": "fabca030011e49b2aa51a238aab928a8",
       "version_major": 2,
       "version_minor": 0
      },
      "text/plain": [
       "Output()"
      ]
     },
     "metadata": {},
     "output_type": "display_data"
    }
   ],
   "source": [
    "import ipywidgets as widgets\n",
    "from ipywidgets import interactive_output,HBox,VBox,Label,Layout\n",
    "from IPython.display import display\n",
    "%matplotlib inline\n",
    "\n",
    "# default setting\n",
    "tstop = 1000 # how long to run the simulation in ms\n",
    "soma_gl = 0.000045e-3 # S/cm2\n",
    "gcas = 0.055e-3 # S/cm2\n",
    "gcat = 0.0552e-3 # S/cm2\n",
    "gkA = 0.200e-3 # S/cm2\n",
    "gkca = 0.500e-3 # S/cm2\n",
    "soma_gkdr = 1.890e-3 # S/cm2\n",
    "taucas = 303 # ms\n",
    "axon_gl = 0.0000018e-3 # S/cm2\n",
    "axon_gna = 0.300e-3 # S/cm2\n",
    "axon_gkdr = 0.0525e-3 # S/cm2\n",
    "amp = 0 # amplitude in nA\n",
    "dur = 600 # duration in ms\n",
    "delay = 200 # delay in ms\n",
    "\n",
    "w_reset = widgets.Button(description='Reset',icon='history',button_style='primary')\n",
    "w_fig = widgets.ToggleButton(value=False,description='Interactive plot',icon='window-restore',button_style='success')\n",
    "w_tstop = widgets.BoundedFloatText(value=tstop,min=1,max=5e4,description='Tstop (ms)')\n",
    "w_s_gl = widgets.BoundedFloatText(value=soma_gl,min=0,max=1,step=1e-9)\n",
    "w_gcas = widgets.BoundedFloatText(value=gcas,min=0,max=1,step=1e-7)\n",
    "w_gcat = widgets.BoundedFloatText(value=gcat,min=0,max=1,step=1e-7)\n",
    "w_gkA = widgets.BoundedFloatText(value=gkA,min=0,max=1,step=1e-6)\n",
    "w_gkca = widgets.BoundedFloatText(value=gkca,min=0,max=1,step=1e-4)\n",
    "w_s_gkdr = widgets.BoundedFloatText(value=soma_gkdr,min=0,max=1,step=1e-4)\n",
    "w_taucas = widgets.BoundedFloatText(value=taucas,min=0,max=1e4)\n",
    "w_a_gl = widgets.BoundedFloatText(value=axon_gl,min=0,max=1,step=1e-10)\n",
    "w_a_gna = widgets.BoundedFloatText(value=axon_gna,min=0,max=1,step=1e-5)\n",
    "w_a_gkdr = widgets.BoundedFloatText(value=axon_gkdr,min=0,max=1,step=1e-6)\n",
    "w_amp = widgets.FloatText(value=amp)\n",
    "w_dur = widgets.FloatText(value=dur)\n",
    "w_delay = widgets.FloatText(value=delay)\n",
    "\n",
    "def reset_default(*args):\n",
    "    w_tstop.value = tstop; w_s_gl.value = soma_gl;\n",
    "    w_gcas.value = gcas; w_gcat.value = gcat\n",
    "    w_gkA.value = gkA; w_gkca.value = gkca; w_s_gkdr.value = soma_gkdr\n",
    "    w_taucas.value = taucas; w_a_gl.value = axon_gl\n",
    "    w_a_gna.value = axon_gna; w_a_gkdr.value = axon_gkdr\n",
    "    w_amp.value = amp; w_dur.value = dur; w_delay.value = delay\n",
    "w_reset.on_click(reset_default)\n",
    "\n",
    "def interactive_fig(*arg):\n",
    "    if w_fig.value:\n",
    "        w_fig.icon = 'window-maximize'; w_fig.description='Inline plot'\n",
    "        %matplotlib qt\n",
    "        %matplotlib qt\n",
    "    else:\n",
    "        w_fig.icon = 'window-restore'; w_fig.description='Interactive plot'\n",
    "        %matplotlib inline\n",
    "w_fig.observe(interactive_fig,'value')\n",
    "\n",
    "between = Layout(justify_content='space-between')\n",
    "around = Layout(justify_content='space-around')\n",
    "labels = ['gL:','gCaS:','gCaT:','gKA:','gKCa:','gKdr:','tauCa (ms):',\n",
    "          'Amplitude (nA):','Duration (ms):','Delay (ms):','gL:','gNa:','gKdr:']\n",
    "Labels = [Label(L) for L in labels]\n",
    "\n",
    "ui = VBox([ HBox([w_reset,w_fig]), w_tstop, HBox([\n",
    "            VBox([ Label(r'\\( Soma\\ channels\\ conductance\\ (S/cm^{2}) \\)'),\n",
    "                  HBox([ VBox(Labels[:7]),VBox([w_s_gl,w_gcas,w_gcat,w_gkA,w_gkca,w_s_gkdr,w_taucas]) ], layout=between) ]),\n",
    "            VBox([ Label(r'\\( Current\\ clamp \\)'),\n",
    "                  HBox([ VBox(Labels[7:10]),VBox([w_amp,w_dur,w_delay]) ], layout=between),\n",
    "                   Label(r'\\( Axon\\ channels\\ conductance\\ (S/cm^{2}) \\)'),\n",
    "                  HBox([ VBox(Labels[-3:]),VBox([w_a_gl,w_a_gna,w_a_gkdr]) ], layout=between) ]) ], layout=around) ])\n",
    "out = interactive_output(activemodel,{'tstop':w_tstop,'soma_gl':w_s_gl,'gcas':w_gcas,'gcat':w_gcat,\n",
    "                    'gkA':w_gkA,'gkca':w_gkca,'soma_gkdr':w_s_gkdr,'taucas':w_taucas,'axon_gl':w_a_gl,\n",
    "                    'axon_gna':w_a_gna,'axon_gkdr':w_a_gkdr,'amp':w_amp,'dur':w_dur,'delay':w_delay,'fig':w_fig})\n",
    "\n",
    "display(ui,out)"
   ]
  },
  {
   "cell_type": "markdown",
   "metadata": {},
   "source": [
    "### Questions:\n",
    "1. Run the simulation and see which currents are active during different phases of the burst. Which currents are responsible for which dynamics of the burst?  \n",
    "<br>\n",
    "2. Turn off the I<sub>KCa</sub> I<sub>CaS</sub> and I<sub>CaT</sub> currents by setting their conductances to zero. What will this do to the cell? Can you see spikes? Why not? What can you do to get spiking behavior?  \n",
    "<br>\n",
    "3. Turn off I<sub>Na</sub> by setting the conductance g<sub>Na</sub> to zero. Do slow wave oscillations still occur? Explain.  \n",
    "<br>\n",
    "4. A bursting cell has two sets of currents, one set responsible for generating action potentials and one for generating the slow wave oscillations. Describe these sets in detail below and explain their functions in creating the bursts.  \n",
    "<br>  \n",
    "_<u>(change Tstop to 5000 ms for the following set of questions)<u>_\n",
    "5. Observe the Ca concentration. What role does the Ca concentration play in the burst dynamics?  \n",
    "<br>\n",
    "6. Set the I<sub>KCa</sub> conductance to zero. What happens to the burst? Why?  \n",
    "<br>\n",
    "7. Observe and explain the effects of increasing the I<sub>A</sub> conductance.  \n",
    "<br>\n",
    "8. Observe and explain the effects of increasing the I<sub>CaS</sub> conductance.  \n",
    "<br>\n",
    "9. What happens if g<sub>A</sub> and g<sub>CaS</sub> are increased or decreased together?"
   ]
  },
  {
   "cell_type": "code",
   "execution_count": null,
   "metadata": {},
   "outputs": [],
   "source": []
  }
 ],
 "metadata": {
  "kernelspec": {
   "display_name": "Python 3",
   "language": "python",
   "name": "python3"
  },
  "language_info": {
   "codemirror_mode": {
    "name": "ipython",
    "version": 3
   },
   "file_extension": ".py",
   "mimetype": "text/x-python",
   "name": "python",
   "nbconvert_exporter": "python",
   "pygments_lexer": "ipython3",
   "version": "3.7.1"
  }
 },
 "nbformat": 4,
 "nbformat_minor": 2
}
